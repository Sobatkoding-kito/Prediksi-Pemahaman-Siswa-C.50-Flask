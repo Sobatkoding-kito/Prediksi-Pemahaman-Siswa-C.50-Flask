{
 "cells": [
  {
   "cell_type": "code",
   "execution_count": 3,
   "id": "copyrighted-celebration",
   "metadata": {},
   "outputs": [],
   "source": [
    "import pandas as pd\n",
    "import matplotlib.pyplot as plt\n",
    "import seaborn as sns\n",
    "from sklearn.model_selection import train_test_split\n",
    "from sklearn import tree\n",
    "from sklearn.tree import DecisionTreeClassifier\n",
    "from sklearn.metrics import confusion_matrix, classification_report, accuracy_score\n",
    "from sklearn.preprocessing import StandardScaler"
   ]
  },
  {
   "cell_type": "code",
   "execution_count": 6,
   "id": "becoming-guidance",
   "metadata": {},
   "outputs": [
    {
     "data": {
      "text/html": [
       "<div>\n",
       "<style scoped>\n",
       "    .dataframe tbody tr th:only-of-type {\n",
       "        vertical-align: middle;\n",
       "    }\n",
       "\n",
       "    .dataframe tbody tr th {\n",
       "        vertical-align: top;\n",
       "    }\n",
       "\n",
       "    .dataframe thead th {\n",
       "        text-align: right;\n",
       "    }\n",
       "</style>\n",
       "<table border=\"1\" class=\"dataframe\">\n",
       "  <thead>\n",
       "    <tr style=\"text-align: right;\">\n",
       "      <th></th>\n",
       "      <th>id</th>\n",
       "      <th>kdAlternatif</th>\n",
       "      <th>namaAlternatif</th>\n",
       "      <th>kelas</th>\n",
       "      <th>penyampaian_materi</th>\n",
       "      <th>media_pembelajaran</th>\n",
       "      <th>suasana_belajar</th>\n",
       "      <th>tugas</th>\n",
       "      <th>kehadiran</th>\n",
       "      <th>praktikum</th>\n",
       "      <th>uts</th>\n",
       "      <th>uas</th>\n",
       "      <th>matematika</th>\n",
       "      <th>bindo</th>\n",
       "      <th>bing</th>\n",
       "      <th>pemahaman</th>\n",
       "    </tr>\n",
       "  </thead>\n",
       "  <tbody>\n",
       "    <tr>\n",
       "      <th>0</th>\n",
       "      <td>270</td>\n",
       "      <td>2a7225e1-b735-4f10-88ae-2a55e47b2198</td>\n",
       "      <td>Bima Aulia</td>\n",
       "      <td>RPL 1</td>\n",
       "      <td>Serius Santai</td>\n",
       "      <td>PDF</td>\n",
       "      <td>Mendukung</td>\n",
       "      <td>Baik</td>\n",
       "      <td>Baik</td>\n",
       "      <td>Baik</td>\n",
       "      <td>Baik</td>\n",
       "      <td>Sangat Baik</td>\n",
       "      <td>Sangat Baik</td>\n",
       "      <td>Baik</td>\n",
       "      <td>Baik</td>\n",
       "      <td>Tinggi</td>\n",
       "    </tr>\n",
       "    <tr>\n",
       "      <th>1</th>\n",
       "      <td>271</td>\n",
       "      <td>23903154-1e57-493e-a4b3-717c8efcfbb4</td>\n",
       "      <td>Daya Fikri Siregar</td>\n",
       "      <td>RPL 1</td>\n",
       "      <td>Santai</td>\n",
       "      <td>Video</td>\n",
       "      <td>Mendukung</td>\n",
       "      <td>Baik</td>\n",
       "      <td>Sangat Baik</td>\n",
       "      <td>Kurang</td>\n",
       "      <td>Baik</td>\n",
       "      <td>Baik</td>\n",
       "      <td>Baik</td>\n",
       "      <td>Baik</td>\n",
       "      <td>Baik</td>\n",
       "      <td>Rendah</td>\n",
       "    </tr>\n",
       "    <tr>\n",
       "      <th>2</th>\n",
       "      <td>272</td>\n",
       "      <td>fcebbb2d-e950-45df-bab6-06d7e576c5b2</td>\n",
       "      <td>Fadil Ali Aufa</td>\n",
       "      <td>RPL 1</td>\n",
       "      <td>Serius Santai</td>\n",
       "      <td>Video</td>\n",
       "      <td>Mendukung</td>\n",
       "      <td>Baik</td>\n",
       "      <td>Baik</td>\n",
       "      <td>Baik</td>\n",
       "      <td>Sangat Baik</td>\n",
       "      <td>Baik</td>\n",
       "      <td>Baik</td>\n",
       "      <td>Baik</td>\n",
       "      <td>Baik</td>\n",
       "      <td>Tinggi</td>\n",
       "    </tr>\n",
       "    <tr>\n",
       "      <th>3</th>\n",
       "      <td>273</td>\n",
       "      <td>b4d3cbfc-f533-4531-8901-85a86116db98</td>\n",
       "      <td>Fauziah</td>\n",
       "      <td>RPL 1</td>\n",
       "      <td>Santai</td>\n",
       "      <td>Video</td>\n",
       "      <td>Mendukung</td>\n",
       "      <td>Baik</td>\n",
       "      <td>Baik</td>\n",
       "      <td>Cukup</td>\n",
       "      <td>Baik</td>\n",
       "      <td>Baik</td>\n",
       "      <td>Sangat Baik</td>\n",
       "      <td>Sangat Baik</td>\n",
       "      <td>Sangat Baik</td>\n",
       "      <td>Tinggi</td>\n",
       "    </tr>\n",
       "    <tr>\n",
       "      <th>4</th>\n",
       "      <td>274</td>\n",
       "      <td>44209e6d-2119-4e84-88e2-1614db5ac462</td>\n",
       "      <td>Firda Nabilah</td>\n",
       "      <td>RPL 1</td>\n",
       "      <td>Serius Santai</td>\n",
       "      <td>PDF</td>\n",
       "      <td>Mendukung</td>\n",
       "      <td>Cukup</td>\n",
       "      <td>Baik</td>\n",
       "      <td>Baik</td>\n",
       "      <td>Sangat Baik</td>\n",
       "      <td>Sangat Baik</td>\n",
       "      <td>Sangat Baik</td>\n",
       "      <td>Sangat Baik</td>\n",
       "      <td>Sangat Baik</td>\n",
       "      <td>Tinggi</td>\n",
       "    </tr>\n",
       "  </tbody>\n",
       "</table>\n",
       "</div>"
      ],
      "text/plain": [
       "    id                          kdAlternatif       namaAlternatif  kelas  \\\n",
       "0  270  2a7225e1-b735-4f10-88ae-2a55e47b2198          Bima Aulia   RPL 1   \n",
       "1  271  23903154-1e57-493e-a4b3-717c8efcfbb4  Daya Fikri Siregar   RPL 1   \n",
       "2  272  fcebbb2d-e950-45df-bab6-06d7e576c5b2       Fadil Ali Aufa  RPL 1   \n",
       "3  273  b4d3cbfc-f533-4531-8901-85a86116db98             Fauziah   RPL 1   \n",
       "4  274  44209e6d-2119-4e84-88e2-1614db5ac462       Firda Nabilah   RPL 1   \n",
       "\n",
       "  penyampaian_materi media_pembelajaran suasana_belajar  tugas    kehadiran  \\\n",
       "0      Serius Santai                PDF       Mendukung   Baik         Baik   \n",
       "1             Santai              Video       Mendukung   Baik  Sangat Baik   \n",
       "2      Serius Santai              Video       Mendukung   Baik         Baik   \n",
       "3             Santai              Video       Mendukung   Baik         Baik   \n",
       "4      Serius Santai                PDF       Mendukung  Cukup         Baik   \n",
       "\n",
       "  praktikum          uts          uas   matematika        bindo         bing  \\\n",
       "0      Baik         Baik  Sangat Baik  Sangat Baik         Baik         Baik   \n",
       "1    Kurang         Baik         Baik         Baik         Baik         Baik   \n",
       "2      Baik  Sangat Baik         Baik         Baik         Baik         Baik   \n",
       "3     Cukup         Baik         Baik  Sangat Baik  Sangat Baik  Sangat Baik   \n",
       "4      Baik  Sangat Baik  Sangat Baik  Sangat Baik  Sangat Baik  Sangat Baik   \n",
       "\n",
       "  pemahaman  \n",
       "0    Tinggi  \n",
       "1    Rendah  \n",
       "2    Tinggi  \n",
       "3    Tinggi  \n",
       "4    Tinggi  "
      ]
     },
     "execution_count": 6,
     "metadata": {},
     "output_type": "execute_result"
    }
   ],
   "source": [
    "dt = pd.read_csv(\"./tbl_data_latih.csv\", sep = ';', encoding = 'UTF-8')\n",
    "dt.head(5)"
   ]
  },
  {
   "cell_type": "code",
   "execution_count": 10,
   "id": "trained-region",
   "metadata": {},
   "outputs": [
    {
     "data": {
      "text/plain": [
       "(270, 16)"
      ]
     },
     "execution_count": 10,
     "metadata": {},
     "output_type": "execute_result"
    }
   ],
   "source": [
    "dt.shape"
   ]
  },
  {
   "cell_type": "code",
   "execution_count": 11,
   "id": "boxed-distributor",
   "metadata": {},
   "outputs": [
    {
     "name": "stdout",
     "output_type": "stream",
     "text": [
      "<class 'pandas.core.frame.DataFrame'>\n",
      "RangeIndex: 270 entries, 0 to 269\n",
      "Data columns (total 16 columns):\n",
      " #   Column              Non-Null Count  Dtype \n",
      "---  ------              --------------  ----- \n",
      " 0   id                  270 non-null    int64 \n",
      " 1   kdAlternatif        270 non-null    object\n",
      " 2   namaAlternatif      270 non-null    object\n",
      " 3   kelas               270 non-null    object\n",
      " 4   penyampaian_materi  270 non-null    object\n",
      " 5   media_pembelajaran  270 non-null    object\n",
      " 6   suasana_belajar     270 non-null    object\n",
      " 7   tugas               270 non-null    object\n",
      " 8   kehadiran           270 non-null    object\n",
      " 9   praktikum           270 non-null    object\n",
      " 10  uts                 270 non-null    object\n",
      " 11  uas                 270 non-null    object\n",
      " 12  matematika          270 non-null    object\n",
      " 13  bindo               270 non-null    object\n",
      " 14  bing                270 non-null    object\n",
      " 15  pemahaman           270 non-null    object\n",
      "dtypes: int64(1), object(15)\n",
      "memory usage: 33.9+ KB\n"
     ]
    }
   ],
   "source": [
    "dt.info()"
   ]
  },
  {
   "cell_type": "code",
   "execution_count": 12,
   "id": "infectious-moment",
   "metadata": {},
   "outputs": [
    {
     "data": {
      "text/plain": [
       "id                    0\n",
       "kdAlternatif          0\n",
       "namaAlternatif        0\n",
       "kelas                 0\n",
       "penyampaian_materi    0\n",
       "media_pembelajaran    0\n",
       "suasana_belajar       0\n",
       "tugas                 0\n",
       "kehadiran             0\n",
       "praktikum             0\n",
       "uts                   0\n",
       "uas                   0\n",
       "matematika            0\n",
       "bindo                 0\n",
       "bing                  0\n",
       "pemahaman             0\n",
       "dtype: int64"
      ]
     },
     "execution_count": 12,
     "metadata": {},
     "output_type": "execute_result"
    }
   ],
   "source": [
    "dt.isnull().sum()"
   ]
  },
  {
   "cell_type": "code",
   "execution_count": 18,
   "id": "environmental-spanish",
   "metadata": {},
   "outputs": [
    {
     "name": "stdout",
     "output_type": "stream",
     "text": [
      "Rizki Chairu Halfi       1\n",
      "Stevany Amalia           1\n",
      "Muhammad Fachrul Rozi    1\n",
      "M. Ridwan F              1\n",
      "Alifa Ardha Siregar      1\n",
      "                        ..\n",
      "Berkat Sebua Talunohi    1\n",
      "M. Sholeh Aladri         1\n",
      "Anggi Chairrunisa        1\n",
      "Rafli Aulia              1\n",
      "Dinda Lestari            1\n",
      "Name: namaAlternatif, Length: 270, dtype: int64\n",
      "MR 1       28\n",
      "MR 3       27\n",
      "TKJ 2      27\n",
      "MR 2       27\n",
      "TKJ 1      26\n",
      "TEX 1      26\n",
      "MEX 1      25\n",
      "TKJ 3      24\n",
      "RPL 1      20\n",
      "RPL 3      20\n",
      "RPL 2      19\n",
      "X TEX 1     1\n",
      "Name: kelas, dtype: int64\n",
      "Serius Santai    175\n",
      "Santai            74\n",
      "Serius            11\n",
      "Membosankan       10\n",
      "Name: penyampaian_materi, dtype: int64\n",
      "PDF      104\n",
      "Video     93\n",
      "PPT       50\n",
      "EBOOK     23\n",
      "Name: media_pembelajaran, dtype: int64\n",
      "Mendukung          255\n",
      "Tidak Mendukung     15\n",
      "Name: suasana_belajar, dtype: int64\n",
      "Baik           160\n",
      "Sangat Baik     78\n",
      "Cukup           29\n",
      "Kurang           3\n",
      "Name: tugas, dtype: int64\n",
      "Baik           208\n",
      "Sangat Baik     57\n",
      "Cukup            5\n",
      "Name: kehadiran, dtype: int64\n",
      "Baik           133\n",
      "Cukup           79\n",
      "Kurang          43\n",
      "Sangat Baik     15\n",
      "Name: praktikum, dtype: int64\n",
      "Baik           167\n",
      "Sangat Baik     57\n",
      "Cukup           34\n",
      "Kurang          12\n",
      "Name: uts, dtype: int64\n",
      "Baik           173\n",
      "Cukup           42\n",
      "Sangat Baik     37\n",
      "Kurang          18\n",
      "Name: uas, dtype: int64\n",
      "Baik           167\n",
      "Sangat Baik     78\n",
      "Cukup           20\n",
      "Kurang           5\n",
      "Name: matematika, dtype: int64\n",
      "Baik           173\n",
      "Sangat Baik     72\n",
      "Cukup           17\n",
      "Kurang           8\n",
      "Name: bindo, dtype: int64\n",
      "Baik           170\n",
      "Sangat Baik     76\n",
      "Cukup           20\n",
      "Kurang           4\n",
      "Name: bing, dtype: int64\n",
      "Tinggi    169\n",
      "Rendah    101\n",
      "Name: pemahaman, dtype: int64\n"
     ]
    }
   ],
   "source": [
    "print(dt.namaAlternatif.value_counts())\n",
    "print(dt.kelas.value_counts())\n",
    "print(dt.penyampaian_materi.value_counts())\n",
    "print(dt.media_pembelajaran.value_counts())\n",
    "print(dt.suasana_belajar.value_counts())\n",
    "print(dt.tugas.value_counts())\n",
    "print(dt.kehadiran.value_counts())\n",
    "print(dt.praktikum.value_counts())\n",
    "print(dt.uts.value_counts())\n",
    "print(dt.uas.value_counts())\n",
    "print(dt.matematika.value_counts())\n",
    "print(dt.bindo.value_counts())\n",
    "print(dt.bing.value_counts())\n",
    "print(dt.pemahaman.value_counts())"
   ]
  },
  {
   "cell_type": "code",
   "execution_count": 67,
   "id": "significant-mystery",
   "metadata": {},
   "outputs": [],
   "source": [
    "dt.replace({'penyampaian_materi':{'Serius Santai':4, 'Serius':3, 'Santai':2, 'Membosankan':1}},inplace=True)\n",
    "dt.replace({'media_pembelajaran':{'EBOOK':5, 'PPT':4, 'Video':3, 'PPT':2, 'PDF':1}},inplace=True)\n",
    "dt.replace({'suasana_belajar':{'Mendukung':4, 'Tidak Mendukung':1}},inplace=True)\n",
    "dt.replace({'tugas':{'Sangat Baik':4, 'Baik':3, 'Cukup':2, 'Kurang':1}},inplace=True)\n",
    "dt.replace({'kehadiran':{'Sangat Baik':4, 'Baik':3, 'Cukup':2}},inplace=True)\n",
    "dt.replace({'praktikum':{'Sangat Baik':4, 'Baik':3, 'Cukup':2, 'Kurang':1}},inplace=True)\n",
    "dt.replace({'uts':{'Sangat Baik':4, 'Baik':3, 'Cukup':2, 'Kurang':1}},inplace=True)\n",
    "dt.replace({'uas':{'Sangat Baik':4, 'Baik':3, 'Cukup':2, 'Kurang':1}},inplace=True)\n",
    "dt.replace({'matematika':{'Sangat Baik':4, 'Baik':3, 'Cukup':2, 'Kurang':1}},inplace=True)\n",
    "dt.replace({'bindo':{'Sangat Baik':4, 'Baik':3, 'Cukup':2, 'Kurang':1}},inplace=True)\n",
    "dt.replace({'bing':{'Sangat Baik':4, 'Baik':3, 'Cukup':2, 'Kurang':1}},inplace=True)\n",
    "dt.replace({'pemahaman':{'Tinggi':1, 'Rendah':0}},inplace=True)"
   ]
  },
  {
   "cell_type": "code",
   "execution_count": 68,
   "id": "tight-australian",
   "metadata": {},
   "outputs": [],
   "source": [
    "X = dt.drop(['id','kdAlternatif','namaAlternatif','kelas'], axis=1)\n",
    "Y = dt['pemahaman']"
   ]
  },
  {
   "cell_type": "code",
   "execution_count": 69,
   "id": "modern-reserve",
   "metadata": {},
   "outputs": [
    {
     "name": "stdout",
     "output_type": "stream",
     "text": [
      "     penyampaian_materi  media_pembelajaran  suasana_belajar  tugas  \\\n",
      "0                     4                   1                4      3   \n",
      "1                     2                   3                4      3   \n",
      "2                     4                   3                4      3   \n",
      "3                     2                   3                4      3   \n",
      "4                     4                   1                4      2   \n",
      "..                  ...                 ...              ...    ...   \n",
      "265                   3                   2                4      4   \n",
      "266                   2                   2                4      3   \n",
      "267                   4                   2                4      4   \n",
      "268                   4                   3                4      3   \n",
      "269                   4                   1                1      3   \n",
      "\n",
      "     kehadiran  praktikum  uts  uas  matematika  bindo  bing  pemahaman  \n",
      "0            3          3    3    4           4      3     3          1  \n",
      "1            4          1    3    3           3      3     3          0  \n",
      "2            3          3    4    3           3      3     3          1  \n",
      "3            3          2    3    3           4      4     4          1  \n",
      "4            3          3    4    4           4      4     4          1  \n",
      "..         ...        ...  ...  ...         ...    ...   ...        ...  \n",
      "265          4          4    4    4           4      4     4          1  \n",
      "266          3          3    3    3           3      1     3          1  \n",
      "267          3          2    3    2           3      3     4          0  \n",
      "268          3          2    3    3           3      3     2          1  \n",
      "269          2          3    2    4           4      2     1          1  \n",
      "\n",
      "[270 rows x 12 columns]\n"
     ]
    }
   ],
   "source": [
    "print(X)"
   ]
  },
  {
   "cell_type": "code",
   "execution_count": 70,
   "id": "diagnostic-calibration",
   "metadata": {},
   "outputs": [
    {
     "name": "stdout",
     "output_type": "stream",
     "text": [
      "0      1\n",
      "1      0\n",
      "2      1\n",
      "3      1\n",
      "4      1\n",
      "      ..\n",
      "265    1\n",
      "266    1\n",
      "267    0\n",
      "268    1\n",
      "269    1\n",
      "Name: pemahaman, Length: 270, dtype: int64\n"
     ]
    }
   ],
   "source": [
    "print(Y)"
   ]
  },
  {
   "cell_type": "code",
   "execution_count": 101,
   "id": "addressed-somalia",
   "metadata": {},
   "outputs": [],
   "source": [
    "X_train, X_test, Y_train, Y_test = train_test_split(X,Y, test_size = 0.2, random_state = 1)"
   ]
  },
  {
   "cell_type": "code",
   "execution_count": 102,
   "id": "precious-victoria",
   "metadata": {},
   "outputs": [
    {
     "data": {
      "text/plain": [
       "DecisionTreeClassifier(criterion='entropy', max_depth=3, max_leaf_nodes=7)"
      ]
     },
     "execution_count": 102,
     "metadata": {},
     "output_type": "execute_result"
    }
   ],
   "source": [
    "model = DecisionTreeClassifier(criterion = 'entropy', max_depth=3, max_leaf_nodes=7)\n",
    "model.fit(X_train,Y_train)"
   ]
  },
  {
   "cell_type": "code",
   "execution_count": 103,
   "id": "serious-stack",
   "metadata": {},
   "outputs": [],
   "source": [
    "data_prediction = model.predict(X_test)"
   ]
  },
  {
   "cell_type": "code",
   "execution_count": 104,
   "id": "eastern-express",
   "metadata": {},
   "outputs": [
    {
     "name": "stdout",
     "output_type": "stream",
     "text": [
      "[1 1 1 0 1 1 0 0 1 0 0 1 0 1 1 1 0 1 1 1 1 0 0 0 0 0 1 1 0 0 0 0 0 1 0 0 0\n",
      " 1 0 1 0 1 1 1 1 1 1 0 1 0 1 1 0 0 1 1 0 1 1 1 1 0 0 1 1 1 1 0 1 1 0 1 1 0\n",
      " 1 1 0 0 0 0 1 1 0 1 1 1 1 0 1 1 1 1 1 1 0 0 1 0 1 1 0 0 1 0 1 1 1 1]\n"
     ]
    }
   ],
   "source": [
    "print(data_prediction)"
   ]
  },
  {
   "cell_type": "code",
   "execution_count": 105,
   "id": "narrative-russian",
   "metadata": {},
   "outputs": [
    {
     "name": "stdout",
     "output_type": "stream",
     "text": [
      "CONFUSION MATRIX:\n",
      " [[44  0]\n",
      " [ 0 64]]\n"
     ]
    }
   ],
   "source": [
    "print(f'CONFUSION MATRIX:\\n {confusion_matrix(Y_test, data_prediction)}')"
   ]
  },
  {
   "cell_type": "code",
   "execution_count": 106,
   "id": "homeless-college",
   "metadata": {},
   "outputs": [
    {
     "name": "stdout",
     "output_type": "stream",
     "text": [
      "              precision    recall  f1-score   support\n",
      "\n",
      "           0       1.00      1.00      1.00        44\n",
      "           1       1.00      1.00      1.00        64\n",
      "\n",
      "    accuracy                           1.00       108\n",
      "   macro avg       1.00      1.00      1.00       108\n",
      "weighted avg       1.00      1.00      1.00       108\n",
      "\n"
     ]
    }
   ],
   "source": [
    "print(classification_report(Y_test, data_prediction, zero_division=0))"
   ]
  },
  {
   "cell_type": "code",
   "execution_count": null,
   "id": "damaged-beauty",
   "metadata": {},
   "outputs": [],
   "source": []
  }
 ],
 "metadata": {
  "kernelspec": {
   "display_name": "Python 3",
   "language": "python",
   "name": "python3"
  },
  "language_info": {
   "codemirror_mode": {
    "name": "ipython",
    "version": 3
   },
   "file_extension": ".py",
   "mimetype": "text/x-python",
   "name": "python",
   "nbconvert_exporter": "python",
   "pygments_lexer": "ipython3",
   "version": "3.8.8"
  }
 },
 "nbformat": 4,
 "nbformat_minor": 5
}
